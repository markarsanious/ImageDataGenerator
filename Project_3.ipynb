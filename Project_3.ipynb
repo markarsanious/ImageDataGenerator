{
  "nbformat": 4,
  "nbformat_minor": 0,
  "metadata": {
    "colab": {
      "name": "Project 3.ipynb",
      "version": "0.3.2",
      "provenance": [],
      "collapsed_sections": []
    },
    "kernelspec": {
      "name": "python3",
      "display_name": "Python 3"
    },
    "accelerator": "GPU"
  },
  "cells": [
    {
      "metadata": {
        "id": "OXWRlVve9iNl",
        "colab_type": "code",
        "colab": {}
      },
      "cell_type": "code",
      "source": [
        "#Imports\n",
        "import numpy as np\n",
        "import matplotlib.pyplot as plt\n",
        "import keras\n",
        "from keras.models import Sequential\n",
        "from keras.layers import Dense, Conv2D, MaxPooling2D, Dropout, Flatten\n",
        "from keras.layers.normalization import BatchNormalization\n",
        "from keras.callbacks import ModelCheckpoint "
      ],
      "execution_count": 0,
      "outputs": []
    },
    {
      "metadata": {
        "id": "9rdMn6gyQZtV",
        "colab_type": "code",
        "colab": {}
      },
      "cell_type": "code",
      "source": [
        "# Specify the input shape to the first convolutional layer\n",
        "input_shape = (120, 160, 3)\n",
        "nClasses = 2\n",
        "\n",
        "def createModel():\n",
        "    model = Sequential()\n",
        "    # a convolution layer of 32 features of size 3x3 with relu activation and zero padding\n",
        "    model.add(Conv2D(32, (3, 3), padding='same', activation='relu', input_shape=input_shape))\n",
        "    # a convolution layer of 32 features of size 3x3 with relu activation\n",
        "    model.add(Conv2D(32, (3, 3), activation='relu'))\n",
        "    # a batch normalization layer\n",
        "    model.add(BatchNormalization())\n",
        "    # maxpooling layer of filter size 2x2\n",
        "    model.add(MaxPooling2D(pool_size=(2, 2)))\n",
        "    \n",
        "    # a convolution layer of 64 features of size 3x3 with relu activation and zero padding\n",
        "    model.add(Conv2D(64, (3, 3), padding='same', activation='relu'))\n",
        "    # a convolution layer of 64 features of size 3x3 with relu activation\n",
        "    model.add(Conv2D(64, (3, 3), activation='relu'))\n",
        "    # a batch normalization layer\n",
        "    model.add(BatchNormalization())\n",
        "    # maxpooling layer of filter size 2x2\n",
        "    model.add(MaxPooling2D(pool_size=(2, 2)))\n",
        "    \n",
        "    # a convolution layer of 64 features of size 3x3 with relu activation and zero padding\n",
        "    model.add(Conv2D(64, (3, 3), padding='same', activation='relu'))\n",
        "    # a convolution layer of 64 features of size 3x3 with relu activation\n",
        "    model.add(Conv2D(64, (3, 3), activation='relu'))\n",
        "    # a batch normalization layer\n",
        "    model.add(BatchNormalization())\n",
        "    # maxpooling layer of filter size 2x2\n",
        "    model.add(MaxPooling2D(pool_size=(2, 2)))\n",
        "    # a dropout layer of 50%\n",
        "    model.add(Dropout(0.5))\n",
        "    \n",
        "    # flatten the output of the previous layer\n",
        "    model.add(Flatten())\n",
        "    # add a dense layer that outputs 512 units and apply relu activation\n",
        "    model.add(Dense(512, activation='relu'))\n",
        "    # a dropout layer of 50%\n",
        "    model.add(Dropout(0.5))\n",
        "    # add a dense layer with a softmax activation to classify the images\n",
        "    model.add(Dense(nClasses, activation='softmax'))\n",
        "     \n",
        "    return model"
      ],
      "execution_count": 0,
      "outputs": []
    },
    {
      "metadata": {
        "id": "7ZYu33-X9jf2",
        "colab_type": "code",
        "colab": {}
      },
      "cell_type": "code",
      "source": [
        "#Create a model and compile it\n",
        "model = createModel()\n",
        "model.compile(optimizer='rmsprop', loss='sparse_categorical_crossentropy', metrics=['accuracy'])"
      ],
      "execution_count": 0,
      "outputs": []
    },
    {
      "metadata": {
        "id": "0QxgT2o69sWO",
        "colab_type": "code",
        "outputId": "005ee072-3570-455f-e43d-8b0bcf72777d",
        "colab": {
          "base_uri": "https://localhost:8080/",
          "height": 34
        }
      },
      "cell_type": "code",
      "source": [
        "#mounting my drive to use the dataset and entering the authorization code\n",
        "from google.colab import drive\n",
        "drive.mount('/content/gdrive')"
      ],
      "execution_count": 47,
      "outputs": [
        {
          "output_type": "stream",
          "text": [
            "Drive already mounted at /content/gdrive; to attempt to forcibly remount, call drive.mount(\"/content/gdrive\", force_remount=True).\n"
          ],
          "name": "stdout"
        }
      ]
    },
    {
      "metadata": {
        "id": "NetneiXhSK9t",
        "colab_type": "text"
      },
      "cell_type": "markdown",
      "source": [
        "### **Point 1: Reading modified dataset using ImageDataGenerator and splitting it into training, validation & testing sets**"
      ]
    },
    {
      "metadata": {
        "id": "C07aPgJsSyyH",
        "colab_type": "text"
      },
      "cell_type": "markdown",
      "source": [
        "### **Point 2: Uaing ImageDataGenerator parameters to split the training and validation set into 80:20 ration (validation split = 0.2) and to standardize the data (samplewise_center = true and samplewise_std_normalization=true)** "
      ]
    },
    {
      "metadata": {
        "id": "Lmg5HLSnBGRv",
        "colab_type": "code",
        "colab": {}
      },
      "cell_type": "code",
      "source": [
        "# Using Keras' Image Data Generator to read the modified dataset and continue training\n",
        "# Split the dataset into training and validation sets\n",
        "from keras.preprocessing.image import ImageDataGenerator\n",
        "train_datagen = ImageDataGenerator(\n",
        "        rescale=1./255,\n",
        "        samplewise_std_normalization=True,\n",
        "        samplewise_center=True,\n",
        "        validation_split=0.2)\n",
        "\n",
        "#Do the normalizaton for the testing set\n",
        "test_datagen = ImageDataGenerator(rescale=1./255, samplewise_std_normalization=True, samplewise_center=True)\n"
      ],
      "execution_count": 0,
      "outputs": []
    },
    {
      "metadata": {
        "id": "UTXoyHuqBjhl",
        "colab_type": "code",
        "outputId": "9e2ec2a7-ba40-4d69-b0bc-ba3dd77fbea9",
        "colab": {
          "base_uri": "https://localhost:8080/",
          "height": 34
        }
      },
      "cell_type": "code",
      "source": [
        "# Reading training dataset from the google drive directory\n",
        "train_generator = train_datagen.flow_from_directory(\n",
        "        '/content/gdrive/My Drive/Project3ML_dataset/Data/train',\n",
        "        target_size=(120, 160),\n",
        "        batch_size=32,\n",
        "        class_mode='binary',\n",
        "        subset=\"training\",\n",
        "        color_mode=\"rgb\")\n",
        "\n"
      ],
      "execution_count": 49,
      "outputs": [
        {
          "output_type": "stream",
          "text": [
            "Found 3098 images belonging to 2 classes.\n"
          ],
          "name": "stdout"
        }
      ]
    },
    {
      "metadata": {
        "id": "lFKzSSvqBkV-",
        "colab_type": "code",
        "outputId": "257867f8-4e72-4cf8-de42-3ee8d4471823",
        "colab": {
          "base_uri": "https://localhost:8080/",
          "height": 34
        }
      },
      "cell_type": "code",
      "source": [
        "# Reading validation dataset from the google drive directory\n",
        "validation_generator = train_datagen.flow_from_directory(\n",
        "        '/content/gdrive/My Drive/Project3ML_dataset/Data/train',\n",
        "        target_size=(120, 160),\n",
        "        batch_size=32,\n",
        "        class_mode='binary',\n",
        "        subset=\"validation\",\n",
        "        color_mode=\"rgb\")\n",
        "\n",
        "\n"
      ],
      "execution_count": 50,
      "outputs": [
        {
          "output_type": "stream",
          "text": [
            "Found 774 images belonging to 2 classes.\n"
          ],
          "name": "stdout"
        }
      ]
    },
    {
      "metadata": {
        "id": "v7MxyenyBmbQ",
        "colab_type": "code",
        "outputId": "096a49e8-4324-4eb2-993b-bc2b638a3186",
        "colab": {
          "base_uri": "https://localhost:8080/",
          "height": 34
        }
      },
      "cell_type": "code",
      "source": [
        "# Reading testing set from the google drive directory\n",
        "test_generator = test_datagen.flow_from_directory(\n",
        "        '/content/gdrive/My Drive/Project3ML_dataset/Data/test',\n",
        "        target_size=(120, 160),\n",
        "        batch_size=32,\n",
        "         class_mode='binary',\n",
        "        color_mode=\"rgb\")\n",
        "\n"
      ],
      "execution_count": 51,
      "outputs": [
        {
          "output_type": "stream",
          "text": [
            "Found 860 images belonging to 2 classes.\n"
          ],
          "name": "stdout"
        }
      ]
    },
    {
      "metadata": {
        "id": "_LzLRYKMYYV2",
        "colab_type": "text"
      },
      "cell_type": "markdown",
      "source": [
        "### **Point 4: Load the weights file from the google drive directory**"
      ]
    },
    {
      "metadata": {
        "id": "2uw6RrkTBpX4",
        "colab_type": "code",
        "colab": {}
      },
      "cell_type": "code",
      "source": [
        "# load the weights file from the google drive directory\n",
        "\n",
        "model.load_weights(\"/content/gdrive/My Drive/Project3ML_dataset/Weights/weights.hdf5\")"
      ],
      "execution_count": 0,
      "outputs": []
    },
    {
      "metadata": {
        "id": "DErDtHk8Y71j",
        "colab_type": "text"
      },
      "cell_type": "markdown",
      "source": [
        "### **Point 5: Do Keras Checkpointing and save the best weights in a file in the google drive**"
      ]
    },
    {
      "metadata": {
        "id": "mvqeq-8JBtUo",
        "colab_type": "code",
        "colab": {}
      },
      "cell_type": "code",
      "source": [
        "# https://keras.io/callbacks/#modelcheckpoint\n",
        "# mention the path to save the best weights to continue training from it in case training was interrupted\n",
        "best_weights_file_path = \"/content/gdrive/My Drive/Project3ML_dataset/Weights/best_weights.hdf5\"\n",
        "\n",
        "#DO the checkpointing to save the weights in case it was better than the saved best weights\n",
        "check_point = ModelCheckpoint( best_weights_file_path, \n",
        "    save_best_only=True, \n",
        "    save_weights_only=True,\n",
        "    monitor='acc',\n",
        "    period=1)"
      ],
      "execution_count": 0,
      "outputs": []
    },
    {
      "metadata": {
        "id": "C53XFYEKaFs3",
        "colab_type": "text"
      },
      "cell_type": "markdown",
      "source": [
        "### **Point 3: Use the fit_generator to train the mdoel and specify the steps per epoch and the validation steps**\n",
        "\n",
        "**The steps per epoch is calculated using the the total number of samples (train_genertor.n) divided by the batch size (train_generator.batch_size which in our case is 32) so that we specify to the training model to do these steps in each epoch to go through the whole training/validation dataset in each epoch**\n",
        "\n",
        "**For example: if the dataset had 10,000 images and a batch size of 100 then the epoch should contain 10,000 / 100 = 100 steps. In our case, the batch size is 32.**\n",
        "\n",
        "**We do the same for the validation dataset (validation_generator.n divided by validation_generator.batch_size), we also train the model on 30 epochs of the whole set and use the checkpoints that we specified earlier**"
      ]
    },
    {
      "metadata": {
        "id": "X_1ksb-qBv76",
        "colab_type": "code",
        "outputId": "4f5f7990-62ce-42b9-e1bd-79b252bff8e0",
        "colab": {
          "base_uri": "https://localhost:8080/",
          "height": 1037
        }
      },
      "cell_type": "code",
      "source": [
        "Train_steps = train_generator.n // train_generator.batch_size\n",
        "Validation_steps = validation_generator.n // validation_generator.batch_size\n",
        "\n",
        "trained_model = model.fit_generator(\n",
        "    train_generator,\n",
        "    validation_data=validation_generator,\n",
        "    steps_per_epoch=Train_steps, \n",
        "    verbose=1,\n",
        "    epochs= 30,\n",
        "    validation_steps=Validation_steps, \n",
        "    callbacks=[check_point])"
      ],
      "execution_count": 54,
      "outputs": [
        {
          "output_type": "stream",
          "text": [
            "Epoch 1/30\n",
            "96/96 [==============================] - 16s 171ms/step - loss: 0.5158 - acc: 0.8613 - val_loss: 0.5921 - val_acc: 0.8594\n",
            "Epoch 2/30\n",
            "96/96 [==============================] - 15s 151ms/step - loss: 0.4290 - acc: 0.8744 - val_loss: 1.8923 - val_acc: 0.7547\n",
            "Epoch 3/30\n",
            "96/96 [==============================] - 15s 156ms/step - loss: 0.3576 - acc: 0.8927 - val_loss: 0.6045 - val_acc: 0.8774\n",
            "Epoch 4/30\n",
            "96/96 [==============================] - 15s 157ms/step - loss: 0.3174 - acc: 0.9151 - val_loss: 0.6481 - val_acc: 0.8895\n",
            "Epoch 5/30\n",
            "96/96 [==============================] - 15s 156ms/step - loss: 0.2886 - acc: 0.9268 - val_loss: 0.7622 - val_acc: 0.8976\n",
            "Epoch 6/30\n",
            "96/96 [==============================] - 15s 156ms/step - loss: 0.3136 - acc: 0.9277 - val_loss: 0.5813 - val_acc: 0.8962\n",
            "Epoch 7/30\n",
            "96/96 [==============================] - 15s 161ms/step - loss: 0.2575 - acc: 0.9385 - val_loss: 1.0381 - val_acc: 0.8666\n",
            "Epoch 8/30\n",
            "96/96 [==============================] - 15s 157ms/step - loss: 0.2938 - acc: 0.9302 - val_loss: 0.9091 - val_acc: 0.8774\n",
            "Epoch 9/30\n",
            "96/96 [==============================] - 15s 154ms/step - loss: 0.2334 - acc: 0.9435 - val_loss: 0.6183 - val_acc: 0.9070\n",
            "Epoch 10/30\n",
            "96/96 [==============================] - 15s 156ms/step - loss: 0.1968 - acc: 0.9469 - val_loss: 0.7636 - val_acc: 0.9043\n",
            "Epoch 11/30\n",
            "96/96 [==============================] - 15s 157ms/step - loss: 0.1703 - acc: 0.9605 - val_loss: 1.2332 - val_acc: 0.8585\n",
            "Epoch 12/30\n",
            "96/96 [==============================] - 15s 156ms/step - loss: 0.1794 - acc: 0.9577 - val_loss: 0.6654 - val_acc: 0.9097\n",
            "Epoch 13/30\n",
            "96/96 [==============================] - 15s 157ms/step - loss: 0.1556 - acc: 0.9632 - val_loss: 1.1023 - val_acc: 0.8854\n",
            "Epoch 14/30\n",
            "96/96 [==============================] - 15s 156ms/step - loss: 0.1740 - acc: 0.9674 - val_loss: 1.0145 - val_acc: 0.8895\n",
            "Epoch 15/30\n",
            "96/96 [==============================] - 15s 156ms/step - loss: 0.1359 - acc: 0.9733 - val_loss: 2.4803 - val_acc: 0.7965\n",
            "Epoch 16/30\n",
            "96/96 [==============================] - 15s 156ms/step - loss: 0.1903 - acc: 0.9703 - val_loss: 0.8490 - val_acc: 0.9070\n",
            "Epoch 17/30\n",
            "96/96 [==============================] - 15s 155ms/step - loss: 0.1366 - acc: 0.9732 - val_loss: 0.7171 - val_acc: 0.9164\n",
            "Epoch 18/30\n",
            "96/96 [==============================] - 15s 156ms/step - loss: 0.1932 - acc: 0.9658 - val_loss: 0.9061 - val_acc: 0.8922\n",
            "Epoch 19/30\n",
            "96/96 [==============================] - 15s 154ms/step - loss: 0.1131 - acc: 0.9759 - val_loss: 0.7331 - val_acc: 0.9097\n",
            "Epoch 20/30\n",
            "96/96 [==============================] - 15s 156ms/step - loss: 0.1098 - acc: 0.9792 - val_loss: 1.1133 - val_acc: 0.8908\n",
            "Epoch 21/30\n",
            "96/96 [==============================] - 15s 160ms/step - loss: 0.1149 - acc: 0.9756 - val_loss: 0.7104 - val_acc: 0.9124\n",
            "Epoch 22/30\n",
            "96/96 [==============================] - 15s 157ms/step - loss: 0.0688 - acc: 0.9779 - val_loss: 1.7067 - val_acc: 0.8558\n",
            "Epoch 23/30\n",
            "96/96 [==============================] - 15s 160ms/step - loss: 0.1218 - acc: 0.9823 - val_loss: 0.8116 - val_acc: 0.9097\n",
            "Epoch 24/30\n",
            "96/96 [==============================] - 16s 164ms/step - loss: 0.1160 - acc: 0.9798 - val_loss: 1.0439 - val_acc: 0.8962\n",
            "Epoch 25/30\n",
            "96/96 [==============================] - 15s 161ms/step - loss: 0.0781 - acc: 0.9821 - val_loss: 1.0984 - val_acc: 0.8801\n",
            "Epoch 26/30\n",
            "96/96 [==============================] - 16s 163ms/step - loss: 0.1019 - acc: 0.9830 - val_loss: 0.9984 - val_acc: 0.8880\n",
            "Epoch 27/30\n",
            "96/96 [==============================] - 16s 167ms/step - loss: 0.1006 - acc: 0.9818 - val_loss: 2.4414 - val_acc: 0.8221\n",
            "Epoch 28/30\n",
            "96/96 [==============================] - 16s 162ms/step - loss: 0.0849 - acc: 0.9824 - val_loss: 1.1020 - val_acc: 0.9016\n",
            "Epoch 29/30\n",
            "96/96 [==============================] - 15s 161ms/step - loss: 0.0828 - acc: 0.9850 - val_loss: 0.7010 - val_acc: 0.9124\n",
            "Epoch 30/30\n",
            "96/96 [==============================] - 16s 164ms/step - loss: 0.0436 - acc: 0.9905 - val_loss: 1.2231 - val_acc: 0.8854\n"
          ],
          "name": "stdout"
        }
      ]
    },
    {
      "metadata": {
        "id": "eP2pZSrPZaKQ",
        "colab_type": "code",
        "colab": {
          "base_uri": "https://localhost:8080/",
          "height": 85
        },
        "outputId": "27f5f4c5-a0c9-47f6-8cc0-bf70b9f0e760"
      },
      "cell_type": "code",
      "source": [
        "best_training_accuracy = max(trained_model.history['acc'])\n",
        "best_training_loss = min(trained_model.history['loss'])\n",
        "print(\"Best Training Loss: \", best_training_loss)\n",
        "print(\"Best Training Accuracy: \", best_training_accuracy)\n",
        "\n",
        "best_validation_accuracy = max(trained_model.history['val_acc'])\n",
        "best_validation_loss = min(trained_model.history['val_loss'])\n",
        "print(\"Best Validation Loss: \", best_validation_loss)\n",
        "print(\"Best Validation Accuracy: \", best_validation_accuracy)"
      ],
      "execution_count": 56,
      "outputs": [
        {
          "output_type": "stream",
          "text": [
            "Best Training Loss:  0.04350427738688522\n",
            "Best Training Accuracy:  0.9905414218149851\n",
            "Best Validation Loss:  0.5813197929341838\n",
            "Best Validation Accuracy:  0.9164420483568608\n"
          ],
          "name": "stdout"
        }
      ]
    },
    {
      "metadata": {
        "id": "reWG2DSRbfyP",
        "colab_type": "text"
      },
      "cell_type": "markdown",
      "source": [
        "### **Point 6: We evaluate our model using the testing dataset and specify the testing steps size as we did in the training and validation earlier**"
      ]
    },
    {
      "metadata": {
        "id": "3SiocrrXBx3m",
        "colab_type": "code",
        "outputId": "7b53cc90-48f0-43bd-a8ae-7398ef4e74e4",
        "colab": {
          "base_uri": "https://localhost:8080/",
          "height": 68
        }
      },
      "cell_type": "code",
      "source": [
        "Testing_steps = test_generator.n // test_generator.batch_size\n",
        "\n",
        "loss, accuracy = model.evaluate_generator(test_generator, verbose=1, steps=Testing_steps)\n",
        "print(\"Testing Loss: \", loss)\n",
        "print(\"Testing Accruacy: \", accuracy)"
      ],
      "execution_count": 57,
      "outputs": [
        {
          "output_type": "stream",
          "text": [
            "26/26 [==============================] - 3s 113ms/step\n",
            "Testing Loss:  0.7701649989640487\n",
            "Testing Accruacy:  0.90625\n"
          ],
          "name": "stdout"
        }
      ]
    },
    {
      "metadata": {
        "id": "drTu7BgNLTpL",
        "colab_type": "code",
        "colab": {}
      },
      "cell_type": "code",
      "source": [
        ""
      ],
      "execution_count": 0,
      "outputs": []
    }
  ]
}